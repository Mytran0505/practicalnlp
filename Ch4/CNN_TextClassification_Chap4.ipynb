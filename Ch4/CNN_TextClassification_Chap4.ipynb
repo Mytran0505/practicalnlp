{
 "cells": [
  {
   "cell_type": "code",
   "execution_count": 83,
   "metadata": {},
   "outputs": [],
   "source": [
    "import os\n",
    "import sys\n",
    "import numpy as np\n",
    "from keras.preprocessing.text import Tokenizer\n",
    "from keras.preprocessing.sequence import pad_sequences\n",
    "from keras.utils import to_categorical\n",
    "from keras.layers import Dense, Input, GlobalMaxPooling1D\n",
    "from keras.layers import Conv1D, MaxPooling1D, Embedding\n",
    "from keras.models import Model\n",
    "from keras.initializers import Constant"
   ]
  },
  {
   "cell_type": "code",
   "execution_count": 84,
   "metadata": {},
   "outputs": [],
   "source": [
    "#Declaring some of the constants we will use\n",
    "BASE_DIR = '/home/bangaru/Downloads/Datasets'\n",
    "GLOVE_DIR = os.path.join(BASE_DIR, 'glove.6B')#https://nlp.stanford.edu/projects/glove/\n",
    "TRAIN_DATA_DIR = os.path.join(BASE_DIR, 'aclImdb/train') #http://ai.stanford.edu/~amaas/data/sentiment/\n",
    "TEST_DATA_DIR = os.path.join(BASE_DIR, 'aclImdb/test') \n",
    "#Within these, I only have a pos/ and a neg/ folder containing text files \n",
    "MAX_SEQUENCE_LENGTH = 1000\n",
    "MAX_NUM_WORDS = 20000\n",
    "EMBEDDING_DIM = 100\n",
    "VALIDATION_SPLIT = 0.2\n"
   ]
  },
  {
   "cell_type": "code",
   "execution_count": 85,
   "metadata": {},
   "outputs": [],
   "source": [
    "#Function to load the data from the dataset into the notebook. Will be called twice - for train and test.\n",
    "def get_data(data_dir):\n",
    "    texts = []  # list of text samples\n",
    "    labels_index = {'pos':1, 'neg':0}  # dictionary mapping label name to numeric id\n",
    "    labels = []  # list of label ids\n",
    "    for name in sorted(os.listdir(data_dir)):\n",
    "        path = os.path.join(data_dir, name)\n",
    "        if os.path.isdir(path):\n",
    "            label_id = labels_index[name]\n",
    "            for fname in sorted(os.listdir(path)):\n",
    "                    fpath = os.path.join(path, fname)\n",
    "                    text = open(fpath).read()\n",
    "                    texts.append(text)\n",
    "                    labels.append(label_id)\n",
    "\n",
    " #  print('Found %s texts.' % len(texts))\n",
    "   # print('Found %s unique labels.' %len(set(labels)))\n",
    "    return texts, labels\n"
   ]
  },
  {
   "cell_type": "code",
   "execution_count": 86,
   "metadata": {},
   "outputs": [
    {
     "name": "stdout",
     "output_type": "stream",
     "text": [
      "Found 25000 texts.\n",
      "Found 2 unique labels.\n",
      "Found 25000 texts.\n",
      "Found 2 unique labels.\n"
     ]
    }
   ],
   "source": [
    "train_texts, train_labels = get_data(TRAIN_DATA_DIR)\n",
    "test_texts, test_labels = get_data(TEST_DATA_DIR)\n"
   ]
  },
  {
   "cell_type": "code",
   "execution_count": 87,
   "metadata": {},
   "outputs": [
    {
     "name": "stdout",
     "output_type": "stream",
     "text": [
      "Story of a man who has unnatural feelings for a pig. Starts out with a opening scene that is a terrific example of absurd comedy. A formal orchestra audience is turned into an insane, violent mob by the crazy chantings of it's singers. Unfortunately it stays absurd the WHOLE time with no general narrative eventually making it just too off putting. Even those from the era should be turned off. The cryptic dialogue would make Shakespeare seem easy to a third grader. On a technical level it's better than you might think with some good cinematography by future great Vilmos Zsigmond. Future stars Sally Kirkland and Frederic Forrest can be seen briefly.\n",
      "0\n",
      "I've seen this story before but my kids haven't. Boy with troubled past joins military, faces his past, falls in love and becomes a man. The mentor this time is played perfectly by Kevin Costner; An ordinary man with common everyday problems who lives an extraordinary conviction, to save lives. After losing his team he takes a teaching position training the next generation of heroes. The young troubled recruit is played by Kutcher. While his scenes with the local love interest are a tad stiff and don't generate enough heat to melt butter, he compliments Costner well. I never really understood Sela Ward as the neglected wife and felt she should of wanted Costner to quit out of concern for his safety as opposed to her selfish needs. But her presence on screen is a pleasure. The two unaccredited stars of this movie are the Coast Guard and the Sea. Both powerful forces which should not be taken for granted in real life or this movie. The movie has some slow spots and could have used the wasted 15 minutes to strengthen the character relationships. But it still works. The rescue scenes are intense and well filmed and edited to provide maximum impact. This movie earns the audience applause. And the applause of my two sons.\n",
      "1\n"
     ]
    }
   ],
   "source": [
    "#Just a few tests to see how the data looks like. \n",
    "#print(train_texts[0])\n",
    "#print(train_labels[0])\n",
    "#print(test_texts[24999])\n",
    "#print(test_labels[24999])"
   ]
  },
  {
   "cell_type": "code",
   "execution_count": 88,
   "metadata": {},
   "outputs": [
    {
     "name": "stdout",
     "output_type": "stream",
     "text": [
      "Found 88582 unique tokens.\n"
     ]
    }
   ],
   "source": [
    "#Vectorize these text samples into a 2D integer tensor using Keras Tokenizer\n",
    "#Tokenizer is fit on training data only, and that is used to tokenize both train and test data.\n",
    "tokenizer = Tokenizer(num_words=MAX_NUM_WORDS)\n",
    "tokenizer.fit_on_texts(train_texts)\n",
    "\n",
    "train_sequences = tokenizer.texts_to_sequences(train_texts)\n",
    "test_sequences = tokenizer.texts_to_sequences(test_texts)\n",
    "word_index = tokenizer.word_index\n",
    "print('Found %s unique tokens.' % len(word_index))\n"
   ]
  },
  {
   "cell_type": "code",
   "execution_count": 89,
   "metadata": {},
   "outputs": [
    {
     "name": "stdout",
     "output_type": "stream",
     "text": [
      "Shape of train data tensor: (25000, 1000)\n",
      "Shape of train label tensor: (25000, 2)\n",
      "Shape of test data tensor: (25000, 1000)\n",
      "Shape of test label tensor: (25000, 2)\n"
     ]
    }
   ],
   "source": [
    "#Converting this to sequences to be fed into neural network. Max seq. len is 1000 as set earlier\n",
    "trainvalid_data = pad_sequences(train_sequences, maxlen=MAX_SEQUENCE_LENGTH)\n",
    "test_data = pad_sequences(test_sequences, maxlen=MAX_SEQUENCE_LENGTH)\n",
    "trainvalid_labels = to_categorical(np.asarray(train_labels))\n",
    "test_labels = to_categorical(np.asarray(test_labels))\n",
    "#print('Shape of train data tensor:', trainvalid_data.shape)\n",
    "#print('Shape of train label tensor:', trainvalid_labels.shape)\n",
    "#print('Shape of test data tensor:', test_data.shape)\n",
    "#print('Shape of test label tensor:', test_labels.shape)"
   ]
  },
  {
   "cell_type": "code",
   "execution_count": 90,
   "metadata": {},
   "outputs": [
    {
     "name": "stdout",
     "output_type": "stream",
     "text": [
      "Splitting the train data into train and valid is done\n"
     ]
    }
   ],
   "source": [
    "# split the training data into a training set and a validation set\n",
    "indices = np.arange(trainvalid_data.shape[0])\n",
    "np.random.shuffle(indices)\n",
    "trainvalid_data = trainvalid_data[indices]\n",
    "trainvalid_labels = trainvalid_labels[indices]\n",
    "num_validation_samples = int(VALIDATION_SPLIT * trainvalid_data.shape[0])\n",
    "\n",
    "x_train = trainvalid_data[:-num_validation_samples]\n",
    "y_train = trainvalid_labels[:-num_validation_samples]\n",
    "x_val = trainvalid_data[-num_validation_samples:]\n",
    "y_val = trainvalid_labels[-num_validation_samples:]\n",
    "print('Splitting the train data into train and valid is done')"
   ]
  },
  {
   "cell_type": "code",
   "execution_count": 91,
   "metadata": {},
   "outputs": [
    {
     "name": "stdout",
     "output_type": "stream",
     "text": [
      "Preparing embedding matrix.\n",
      "Indexing word vectors.\n",
      "Found 400000 word vectors.\n",
      "[ 0.22575  -0.56253  -0.05156  -0.079389  1.1876   -0.48397  -0.23342\n",
      " -0.85278   0.97495  -0.33344   0.71692   0.12644   0.31962  -1.4136\n",
      " -0.57903  -0.037286 -0.0164    0.45155  -0.29005   0.52599  -0.22534\n",
      " -0.29556  -0.032407  1.5608   -0.013499 -0.064558  0.26625   0.78595\n",
      " -0.71693  -0.93025   0.80461   1.6035   -0.30602  -0.34764   0.93872\n",
      "  0.38137  -0.26743  -0.56519   0.58899  -0.14554  -0.34324   0.21291\n",
      " -0.39887   0.090042 -0.8495    0.38803  -0.5045   -0.22488   1.0644\n",
      " -0.2624    1.0334    0.06348  -0.39989   0.24236  -0.65636  -1.8107\n",
      " -0.061801  0.13795   1.1658   -0.30046  -0.50143   0.16509   0.039835\n",
      "  0.62541   0.56935   0.64125   0.21308   0.30276   0.39673   0.38973\n",
      "  0.28183   0.79481  -0.11962  -0.49598  -0.53195  -0.14897   0.51254\n",
      " -0.39208  -0.58535  -0.078509  0.81721  -0.73497  -0.68131   0.099243\n",
      " -0.87608   0.029632  0.33402  -0.14305   0.16964  -0.035178  0.39777\n",
      "  0.71769   0.25867  -0.36201   0.45698  -0.39156  -0.49343  -0.11224\n",
      "  0.29046   0.73216 ]\n"
     ]
    }
   ],
   "source": [
    "print('Preparing embedding matrix.')\n",
    "\n",
    "# first, build index mapping words in the embeddings set\n",
    "# to their embedding vector\n",
    "\n",
    "print('Indexing word vectors.')\n",
    "\n",
    "embeddings_index = {}\n",
    "with open(os.path.join(GLOVE_DIR, 'glove.6B.100d.txt')) as f:\n",
    "    for line in f:\n",
    "        values = line.split()\n",
    "        word = values[0]\n",
    "        coefs = np.asarray(values[1:], dtype='float32')\n",
    "        embeddings_index[word] = coefs\n",
    "\n",
    "print('Found %s word vectors.' % len(embeddings_index))\n",
    "#print(embeddings_index[\"google\"])\n"
   ]
  },
  {
   "cell_type": "code",
   "execution_count": 94,
   "metadata": {},
   "outputs": [
    {
     "name": "stdout",
     "output_type": "stream",
     "text": [
      "20001\n",
      "88582\n",
      "17\n",
      "[ 0.38251    0.14821    0.60601   -0.51533    0.43992    0.061053\n",
      " -0.62716   -0.025385   0.1643    -0.22101    0.14423   -0.37213\n",
      " -0.21683   -0.08895    0.097904   0.6561     0.64455    0.47698\n",
      "  0.83849    1.6486     0.88922   -0.1181    -0.012465  -0.52082\n",
      "  0.77854    0.48723   -0.014991  -0.14127   -0.34747   -0.29595\n",
      "  0.1028     0.57191   -0.045594   0.026443   0.53816    0.32257\n",
      "  0.40788   -0.043599  -0.146     -0.48346    0.32036    0.55086\n",
      " -0.76259    0.43269    0.61753   -0.36503   -0.60599   -0.79615\n",
      "  0.3929    -0.23668   -0.34719   -0.61201    0.54747    0.94812\n",
      "  0.20941   -2.7771    -0.6022     0.8495     1.2549     0.017893\n",
      " -0.041901   2.1147    -0.026618  -0.28104    0.68124   -0.14165\n",
      "  0.99249    0.49879   -0.67538    0.6417     0.42303   -0.27913\n",
      "  0.063403   0.68909   -0.36183    0.053709  -0.16806    0.19422\n",
      " -0.47073   -0.14803   -0.58986   -0.2797     0.16792    0.10568\n",
      " -1.7601     0.0088254 -0.83326   -0.5836    -0.37079   -0.56591\n",
      "  0.20699    0.071315   0.055586  -0.29757   -0.072659  -0.25596\n",
      "  0.42688    0.058921   0.091112   0.47283  ]\n"
     ]
    }
   ],
   "source": [
    "# prepare embedding matrix\n",
    "\n",
    "num_words = min(MAX_NUM_WORDS, len(word_index)) + 1\n",
    "embedding_matrix = np.zeros((num_words, EMBEDDING_DIM))\n",
    "#print(num_words)\n",
    "#print(len(word_index))\n",
    "#print(word_index[\"movie\"])\n",
    "#print(embeddings_index.get(\"movie\"))\n",
    "for word, i in word_index.items():\n",
    "    if i > MAX_NUM_WORDS:\n",
    "        continue\n",
    "    embedding_vector = embeddings_index.get(word)\n",
    "    if embedding_vector is not None:\n",
    "        # words not found in embedding index will be all-zeros.\n",
    "        embedding_matrix[i] = embedding_vector\n",
    "\n",
    "# load pre-trained word embeddings into an Embedding layer\n",
    "# note that we set trainable = False so as to keep the embeddings fixed\n",
    "embedding_layer = Embedding(num_words,\n",
    "                            EMBEDDING_DIM,\n",
    "                            embeddings_initializer=Constant(embedding_matrix),\n",
    "                            input_length=MAX_SEQUENCE_LENGTH,\n",
    "                            trainable=False)"
   ]
  },
  {
   "cell_type": "code",
   "execution_count": 96,
   "metadata": {},
   "outputs": [
    {
     "name": "stdout",
     "output_type": "stream",
     "text": [
      "Training model.\n",
      "(?, 1000, 100)\n",
      "2\n",
      "(?, 1000)\n"
     ]
    }
   ],
   "source": [
    "print('Define a 1D CNN model.')\n",
    "\n",
    "# train a 1D convnet with global maxpooling\n",
    "sequence_input = Input(shape=(MAX_SEQUENCE_LENGTH,), dtype='int32')\n",
    "embedded_sequences = embedding_layer(sequence_input)\n",
    "x = Conv1D(128, 5, activation='relu')(embedded_sequences)\n",
    "x = MaxPooling1D(5)(x)\n",
    "x = Conv1D(128, 5, activation='relu')(x)\n",
    "x = MaxPooling1D(5)(x)\n",
    "x = Conv1D(128, 5, activation='relu')(x)\n",
    "x = GlobalMaxPooling1D()(x)\n",
    "x = Dense(128, activation='relu')(x)\n",
    "preds = Dense(len(labels_index), activation='softmax')(x)\n",
    "model = Model(sequence_input, preds)\n",
    "model.compile(loss='categorical_crossentropy',\n",
    "              optimizer='rmsprop',\n",
    "              metrics=['acc'])\n"
   ]
  },
  {
   "cell_type": "code",
   "execution_count": 99,
   "metadata": {},
   "outputs": [
    {
     "name": "stdout",
     "output_type": "stream",
     "text": [
      "WARNING:tensorflow:From /usr/local/lib/python3.6/dist-packages/tensorflow/python/ops/math_ops.py:3066: to_int32 (from tensorflow.python.ops.math_ops) is deprecated and will be removed in a future version.\n",
      "Instructions for updating:\n",
      "Use tf.cast instead.\n",
      "WARNING:tensorflow:From /usr/local/lib/python3.6/dist-packages/tensorflow/python/ops/math_grad.py:102: div (from tensorflow.python.ops.math_ops) is deprecated and will be removed in a future version.\n",
      "Instructions for updating:\n",
      "Deprecated in favor of operator or tf.math.divide.\n",
      "Epoch 1/10\n",
      "20000/20000 [==============================] - 77s 4ms/step - loss: 0.6674 - acc: 0.6144\n",
      "Epoch 2/10\n",
      "20000/20000 [==============================] - 71s 4ms/step - loss: 0.5050 - acc: 0.7641\n",
      "Epoch 3/10\n",
      "20000/20000 [==============================] - 71s 4ms/step - loss: 0.4239 - acc: 0.8105\n",
      "Epoch 4/10\n",
      "20000/20000 [==============================] - 71s 4ms/step - loss: 0.3718 - acc: 0.8334\n",
      "Epoch 5/10\n",
      "20000/20000 [==============================] - 71s 4ms/step - loss: 0.3232 - acc: 0.8595\n",
      "Epoch 6/10\n",
      "20000/20000 [==============================] - 71s 4ms/step - loss: 0.2801 - acc: 0.8809\n",
      "Epoch 7/10\n",
      "20000/20000 [==============================] - 76s 4ms/step - loss: 0.2390 - acc: 0.9007\n",
      "Epoch 8/10\n",
      "20000/20000 [==============================] - 72s 4ms/step - loss: 0.1896 - acc: 0.9251\n",
      "Epoch 9/10\n",
      "20000/20000 [==============================] - 75s 4ms/step - loss: 0.1580 - acc: 0.9403\n",
      "Epoch 10/10\n",
      "20000/20000 [==============================] - 73s 4ms/step - loss: 0.1163 - acc: 0.9566\n"
     ]
    },
    {
     "data": {
      "text/plain": [
       "<keras.callbacks.History at 0x7f3a295c38d0>"
      ]
     },
     "execution_count": 99,
     "metadata": {},
     "output_type": "execute_result"
    }
   ],
   "source": [
    "#Train the model. Fit to validation set. \n",
    "model.fit(x_train, y_train,\n",
    "          batch_size=128,\n",
    "          epochs=2, validation_data=(x_val, y_val))"
   ]
  },
  {
   "cell_type": "code",
   "execution_count": null,
   "metadata": {},
   "outputs": [],
   "source": []
  }
 ],
 "metadata": {
  "kernelspec": {
   "display_name": "Python 3",
   "language": "python",
   "name": "python3"
  },
  "language_info": {
   "codemirror_mode": {
    "name": "ipython",
    "version": 3
   },
   "file_extension": ".py",
   "mimetype": "text/x-python",
   "name": "python",
   "nbconvert_exporter": "python",
   "pygments_lexer": "ipython3",
   "version": "3.6.5"
  }
 },
 "nbformat": 4,
 "nbformat_minor": 2
}
