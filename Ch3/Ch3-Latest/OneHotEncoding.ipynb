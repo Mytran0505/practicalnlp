{
  "nbformat": 4,
  "nbformat_minor": 0,
  "metadata": {
    "kernelspec": {
      "display_name": "Python 3",
      "language": "python",
      "name": "python3"
    },
    "language_info": {
      "codemirror_mode": {
        "name": "ipython",
        "version": 3
      },
      "file_extension": ".py",
      "mimetype": "text/x-python",
      "name": "python",
      "nbconvert_exporter": "python",
      "pygments_lexer": "ipython3",
      "version": "3.6.5"
    },
    "colab": {
      "name": "OneHotEncoding.ipynb",
      "provenance": []
    }
  },
  "cells": [
    {
      "cell_type": "markdown",
      "metadata": {
        "id": "wuu5HXaWLWSM",
        "colab_type": "text"
      },
      "source": [
        "## One Hot Encoding of text\n",
        "\n",
        "One Hot Encoding treats each word as a category and make a sparse vector to represent each text.\n",
        "To keep this notebook simple, we have pre-processed the wages data in the notebook \"Pre-Processing of Wages Data for One-Hot Encoding\".  Pre-processing essentially included removal of features(colums) which mean the same as other column example: Education and education-num mean the same hence education is removed.\n",
        "\n",
        "In this notebook, we will try to predict the salary of a person given his details and we will see how One-Hot Encoding impacts the accuracy."
      ]
    },
    {
      "cell_type": "code",
      "metadata": {
        "id": "GvndsBIzLWSQ",
        "colab_type": "code",
        "outputId": "84ada86f-6267-47a2-a46c-9fbb5a3da8a0",
        "colab": {
          "base_uri": "https://localhost:8080/",
          "height": 35
        }
      },
      "source": [
        "documents = [\"Dog bites man.\", \"Man bites dog.\", \"Dog eats meat.\", \"Man eats food.\"]\n",
        "processed_docs = [doc.lower().replace(\".\",\"\") for doc in documents]\n",
        "processed_docs"
      ],
      "execution_count": 1,
      "outputs": [
        {
          "output_type": "execute_result",
          "data": {
            "text/plain": [
              "['dog bites man', 'man bites dog', 'dog eats meat', 'man eats food']"
            ]
          },
          "metadata": {
            "tags": []
          },
          "execution_count": 1
        }
      ]
    },
    {
      "cell_type": "code",
      "metadata": {
        "id": "dWJcOZLBLWSW",
        "colab_type": "code",
        "outputId": "4f9b080b-c601-42c4-d01f-9c6972328096",
        "colab": {
          "base_uri": "https://localhost:8080/",
          "height": 35
        }
      },
      "source": [
        "#Build the vocabulary\n",
        "vocab = {}\n",
        "count = 0\n",
        "for doc in processed_docs:\n",
        "    for word in doc.split():\n",
        "        if word not in vocab:\n",
        "            count = count +1\n",
        "            vocab[word] = count\n",
        "print(vocab)"
      ],
      "execution_count": 2,
      "outputs": [
        {
          "output_type": "stream",
          "text": [
            "{'dog': 1, 'bites': 2, 'man': 3, 'eats': 4, 'meat': 5, 'food': 6}\n"
          ],
          "name": "stdout"
        }
      ]
    },
    {
      "cell_type": "code",
      "metadata": {
        "id": "4pesdRwpLWSc",
        "colab_type": "code",
        "outputId": "c5d96007-c889-46a3-ffb3-eecfa1791138",
        "colab": {
          "base_uri": "https://localhost:8080/",
          "height": 35
        }
      },
      "source": [
        "print(vocab)\n",
        "#Get one hot representation for any string based on this vocabulary. \n",
        "#If the word exists in the vocabulary, its representation is returned. \n",
        "#If not, a list of zeroes is returned for that word. \n",
        "def get_onehot_vector(somestring):\n",
        "    onehot_encoded = []\n",
        "    for word in somestring.split():\n",
        "        temp = [0]*len(vocab)\n",
        "        if word in vocab:\n",
        "            temp[vocab[word]] = 1\n",
        "        onehot_encoded.append(temp)\n",
        "    return onehot_encoded"
      ],
      "execution_count": 3,
      "outputs": [
        {
          "output_type": "stream",
          "text": [
            "{'dog': 1, 'bites': 2, 'man': 3, 'eats': 4, 'meat': 5, 'food': 6}\n"
          ],
          "name": "stdout"
        }
      ]
    },
    {
      "cell_type": "code",
      "metadata": {
        "id": "JELqSh4gLWSg",
        "colab_type": "code",
        "outputId": "d889a16f-90af-4855-fbc2-e3ae2c4632df",
        "colab": {
          "base_uri": "https://localhost:8080/",
          "height": 35
        }
      },
      "source": [
        "get_onehot_vector(processed_docs[1]) #one hot representation for a text from our corpus."
      ],
      "execution_count": 4,
      "outputs": [
        {
          "output_type": "execute_result",
          "data": {
            "text/plain": [
              "[[0, 0, 0, 1, 0, 0], [0, 0, 1, 0, 0, 0], [0, 1, 0, 0, 0, 0]]"
            ]
          },
          "metadata": {
            "tags": []
          },
          "execution_count": 4
        }
      ]
    },
    {
      "cell_type": "code",
      "metadata": {
        "id": "PVQExJUGLWSm",
        "colab_type": "code",
        "outputId": "419ea86a-cee8-4072-ab75-32170ec71aa5",
        "colab": {
          "base_uri": "https://localhost:8080/",
          "height": 106
        }
      },
      "source": [
        "get_onehot_vector(\"man and dog are good\") \n",
        "#one hot representation for a random text, using the above vocabulary"
      ],
      "execution_count": 5,
      "outputs": [
        {
          "output_type": "execute_result",
          "data": {
            "text/plain": [
              "[[0, 0, 0, 1, 0, 0],\n",
              " [0, 0, 0, 0, 0, 0],\n",
              " [0, 1, 0, 0, 0, 0],\n",
              " [0, 0, 0, 0, 0, 0],\n",
              " [0, 0, 0, 0, 0, 0]]"
            ]
          },
          "metadata": {
            "tags": []
          },
          "execution_count": 5
        }
      ]
    },
    {
      "cell_type": "code",
      "metadata": {
        "id": "_xb8azVwLWSs",
        "colab_type": "code",
        "outputId": "d1b70e2d-7583-4337-b41d-5851b00c9dcf",
        "colab": {
          "base_uri": "https://localhost:8080/",
          "height": 106
        }
      },
      "source": [
        "get_onehot_vector(\"man and man are good\") \n"
      ],
      "execution_count": 6,
      "outputs": [
        {
          "output_type": "execute_result",
          "data": {
            "text/plain": [
              "[[0, 0, 0, 1, 0, 0],\n",
              " [0, 0, 0, 0, 0, 0],\n",
              " [0, 0, 0, 1, 0, 0],\n",
              " [0, 0, 0, 0, 0, 0],\n",
              " [0, 0, 0, 0, 0, 0]]"
            ]
          },
          "metadata": {
            "tags": []
          },
          "execution_count": 6
        }
      ]
    },
    {
      "cell_type": "code",
      "metadata": {
        "id": "3K0pAE5eLapG",
        "colab_type": "code",
        "colab": {}
      },
      "source": [
        ""
      ],
      "execution_count": 0,
      "outputs": []
    },
    {
      "cell_type": "markdown",
      "metadata": {
        "id": "ANj41SQ4L7xI",
        "colab_type": "text"
      },
      "source": [
        "## One-hot encoding using scikit -learn"
      ]
    },
    {
      "cell_type": "code",
      "metadata": {
        "id": "sAPkk-fZLh4W",
        "colab_type": "code",
        "colab": {}
      },
      "source": [
        "S1 = 'Dog bites man'\n",
        "S2 = 'Man bites dog'\n",
        "S3 = 'Dog eats meat'\n",
        "S4 = 'Man eats food'"
      ],
      "execution_count": 0,
      "outputs": []
    },
    {
      "cell_type": "code",
      "metadata": {
        "id": "OYCRHl5SLWSy",
        "colab_type": "code",
        "outputId": "18951db3-c00b-4496-910a-d8231d6cf8d2",
        "colab": {
          "base_uri": "https://localhost:8080/",
          "height": 177
        }
      },
      "source": [
        "from sklearn.preprocessing import LabelEncoder, OneHotEncoder\n",
        "\n",
        "data = [S1.split(), S2.split()]\n",
        "values = data[0]+data[1]\n",
        "print(\"The data: \",values)\n",
        "# integer encode\n",
        "label_encoder = LabelEncoder()\n",
        "integer_encoded = label_encoder.fit_transform(values)\n",
        "print(\"Integer Encoded:\",integer_encoded)\n",
        "\n",
        "# binary encode\n",
        "onehot_encoder = OneHotEncoder(sparse=False)\n",
        "integer_encoded = integer_encoded.reshape(len(integer_encoded), 1)\n",
        "onehot_encoded = onehot_encoder.fit_transform(integer_encoded)\n",
        "print(\"Onehot Encoded Matrix:\\n\",onehot_encoded)\n"
      ],
      "execution_count": 17,
      "outputs": [
        {
          "output_type": "stream",
          "text": [
            "The data:  ['Dog', 'bites', 'man', 'Man', 'bites', 'dog']\n",
            "Integer Encoded: [0 2 4 1 2 3]\n",
            "Onehot Encoded Matrix:\n",
            " [[1. 0. 0. 0. 0.]\n",
            " [0. 0. 1. 0. 0.]\n",
            " [0. 0. 0. 0. 1.]\n",
            " [0. 1. 0. 0. 0.]\n",
            " [0. 0. 1. 0. 0.]\n",
            " [0. 0. 0. 1. 0.]]\n"
          ],
          "name": "stdout"
        }
      ]
    },
    {
      "cell_type": "code",
      "metadata": {
        "id": "lI7PR7Z3Ls_i",
        "colab_type": "code",
        "colab": {}
      },
      "source": [
        ""
      ],
      "execution_count": 0,
      "outputs": []
    }
  ]
}